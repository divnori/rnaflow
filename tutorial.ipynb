{
 "cells": [
  {
   "cell_type": "markdown",
   "metadata": {},
   "source": [
    "This notebook walks through how to design RNAs given a protein binder (sequence and backbone structure) and desired RNA sequence length.\n",
    "\n",
    "1. Set up conda environment (details given in repo)\n",
    "2. Define four input lists:\n",
    "    - PROT_SEQS: [str, ...]\n",
    "    - PROT_COORDS: [Tensor, ...]\n",
    "    - RNA_LENS: [int, ...]\n",
    "    - NUM_SAMPLES: [int, ...]\n",
    "\n",
    "These lists should all be the same length. PROT_COORDS should contain tensors of shape N x 3 x 3 (N residues, 3 backbone atoms per residue). PROT_SEQS should contain strings of length N, matching the dimensions of PROT_COORDS. RNA_LENS is a list of integers, describing the length of RNA that the model should generate. NUM_SAMPLES is a list of ints, where each integer gives the number of designs to sample for the corresponding protein and RNA length. We use our dataloader to get a sample input; comment out this cell as necessary.\n",
    "\n",
    "3. Run the notebook to save RNA sequence and backbone structure designs."
   ]
  },
  {
   "cell_type": "code",
   "execution_count": null,
   "metadata": {},
   "outputs": [],
   "source": [
    "from lightning import Trainer\n",
    "from lightning.pytorch.callbacks import ModelCheckpoint\n",
    "import sys\n",
    "import os\n",
    "\n",
    "sys.path.append(\"rnaflow\")\n",
    "from data.dataloader import RFDataModule\n",
    "from models.rnaflow import RNAFlow\n",
    "from models.inverse_folding import InverseFoldingModel\n",
    "from utils import pdb_utils"
   ]
  },
  {
   "cell_type": "code",
   "execution_count": null,
   "metadata": {},
   "outputs": [],
   "source": [
    "# just to get sample inputs\n",
    "# comment out this code cell if the necessary inputs are already defined\n",
    "RF_DATA_FOLDER = \"rnaflow/data/rf_data\"\n",
    "DATASET_PKL = \"rnaflow/data/seq_sim_dataset.pickle\"\n",
    "data_module = RFDataModule(rf_data_folder=RF_DATA_FOLDER, dataset_pkl=DATASET_PKL, batch_size=1)\n",
    "test_dataloader = data_module.test_dataloader()\n",
    "\n",
    "PROT_SEQS = []\n",
    "RNA_LENS = []\n",
    "PROT_COORDS = []\n",
    "NUM_SAMPLES = [5]\n",
    "for batch in test_dataloader:\n",
    "    PROT_SEQS.append(batch[1][\"prot_seq\"][0])\n",
    "    RNA_LENS.append(len(batch[1][\"rna_seq\"][0]))\n",
    "    PROT_COORDS.append(batch[1][\"prot_coords\"][0])\n",
    "    break"
   ]
  },
  {
   "cell_type": "code",
   "execution_count": null,
   "metadata": {},
   "outputs": [],
   "source": [
    "def write_tmp_files(prot_seq, rna_len, tmp_folder_path = \"tmp_files/sample1\"):\n",
    "    with open(os.path.join(tmp_folder_path, \"prot.fa\"), 'w') as fasta_file:\n",
    "        fasta_file.write(f'>prot\\n{prot_seq}\\n')\n",
    "    with open(os.path.join(tmp_folder_path, \"prot.a3m\"), 'w') as fasta_file:\n",
    "        fasta_file.write(f'>prot\\n{prot_seq}\\n')\n",
    "    with open(os.path.join(tmp_folder_path, \"rna.fa\"), 'w') as fasta_file:\n",
    "        fasta_file.write(f'>rna\\n{\"A\"*rna_len}\\n')\n",
    "    with open(os.path.join(tmp_folder_path, \"rna.afa\"), 'w') as fasta_file:\n",
    "        fasta_file.write(f'>rna\\n{\"A\"*rna_len}\\n')"
   ]
  },
  {
   "cell_type": "code",
   "execution_count": null,
   "metadata": {},
   "outputs": [],
   "source": [
    "rnaflow = RNAFlow.load_from_checkpoint(\"checkpoints/seq-sim-rnaflow-epoch32.ckpt\")"
   ]
  },
  {
   "cell_type": "code",
   "execution_count": null,
   "metadata": {},
   "outputs": [],
   "source": [
    "for idx, (prot_seq, prot_coords, rna_len, num_samples) in enumerate(zip(PROT_SEQS, PROT_COORDS, RNA_LENS, NUM_SAMPLES)):\n",
    "    if not os.path.exists(f\"tmp_files/sample{idx}\"):\n",
    "        os.mkdir(f\"tmp_files/sample{idx}\")\n",
    "        write_tmp_files(prot_seq, rna_len, tmp_folder_path = f\"tmp_files/sample{idx}\")\n",
    "    \n",
    "    for _ in range(num_samples):\n",
    "        rna_seq_design, cplx_struct_design = rnaflow.design_rna(prot_seq, prot_coords, rna_len, f\"tmp_files/sample{idx}\")\n",
    "        pdb_utils.save_cplx_pdb(cplx_struct_design, prot_seq, rna_seq_design, f\"tmp_files/sample{idx}/final_cplx_{idx}.pdb\")\n",
    "        print(rna_seq_design)"
   ]
  }
 ],
 "metadata": {
  "kernelspec": {
   "display_name": "RF2NA",
   "language": "python",
   "name": "python3"
  },
  "language_info": {
   "codemirror_mode": {
    "name": "ipython",
    "version": 3
   },
   "file_extension": ".py",
   "mimetype": "text/x-python",
   "name": "python",
   "nbconvert_exporter": "python",
   "pygments_lexer": "ipython3",
   "version": "3.10.13"
  }
 },
 "nbformat": 4,
 "nbformat_minor": 2
}
